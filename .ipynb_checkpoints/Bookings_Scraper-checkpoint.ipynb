{
 "cells": [
  {
   "cell_type": "code",
   "execution_count": 8,
   "metadata": {},
   "outputs": [],
   "source": [
    "import folium\n",
    "import pandas as pd\n",
    "import os\n",
    "from folium import plugins\n",
    "\n",
    "from selenium import webdriver\n",
    "from selenium.webdriver.support.ui import WebDriverWait\n",
    "from selenium.webdriver.support import expected_conditions as EC\n",
    "from selenium.webdriver.common.by import By\n",
    "from selenium.common.exceptions import TimeoutException\n",
    "from selenium.common.exceptions import NoSuchElementException\n",
    "from selenium.webdriver.chrome.options import Options\n",
    "from datetime import datetime\n",
    "import time"
   ]
  },
  {
   "cell_type": "code",
   "execution_count": 3,
   "metadata": {},
   "outputs": [
    {
     "data": {
      "text/plain": [
       "'C:\\\\Users\\\\1nikh'"
      ]
     },
     "execution_count": 3,
     "metadata": {},
     "output_type": "execute_result"
    }
   ],
   "source": [
    "os.getcwd()"
   ]
  },
  {
   "cell_type": "code",
   "execution_count": 4,
   "metadata": {
    "scrolled": false
   },
   "outputs": [],
   "source": [
    "df = pd.read_csv('OneDrive/Desktop/Apps with Python/Rock Music/MTV_RockMusic.csv')"
   ]
  },
  {
   "cell_type": "code",
   "execution_count": 5,
   "metadata": {},
   "outputs": [
    {
     "name": "stderr",
     "output_type": "stream",
     "text": [
      "<ipython-input-5-c4fe667c4cbc>:1: SettingWithCopyWarning: \n",
      "A value is trying to be set on a copy of a slice from a DataFrame\n",
      "\n",
      "See the caveats in the documentation: https://pandas.pydata.org/pandas-docs/stable/user_guide/indexing.html#returning-a-view-versus-a-copy\n",
      "  df['Name'][df['Name'] == 'AC DC'] = 'AC/DC'\n"
     ]
    }
   ],
   "source": [
    "df['Name'][df['Name'] == 'AC DC'] = 'AC/DC'"
   ]
  },
  {
   "cell_type": "code",
   "execution_count": 6,
   "metadata": {},
   "outputs": [],
   "source": [
    "def chunks(lst, n):\n",
    "    \"\"\"Yield successive n-sized chunks from lst.\"\"\"\n",
    "    for i in range(0, len(lst), n):\n",
    "        yield lst[i:i + n]"
   ]
  },
  {
   "cell_type": "code",
   "execution_count": 7,
   "metadata": {},
   "outputs": [],
   "source": [
    "## Dividing the band names into list chunks of size 20\n",
    "\n",
    "name = list(df['Name'])\n",
    "name_lst = list(chunks(name, 20))"
   ]
  },
  {
   "cell_type": "code",
   "execution_count": 9,
   "metadata": {},
   "outputs": [],
   "source": [
    "band = []\n",
    "url = []"
   ]
  },
  {
   "cell_type": "code",
   "execution_count": null,
   "metadata": {},
   "outputs": [],
   "source": [
    "print(datetime.now().strftime(\"%H:%M:%S\"))\n",
    "\n",
    "for i in range(0, len(name_lst)):\n",
    "    browser = webdriver.Chrome(options=options)\n",
    "    browser.execute_script(\"Object.defineProperty(navigator, 'webdriver', {get: () => undefined})\")\n",
    "    browser.maximize_window()\n",
    "    browser.get('https://www.bandsintown.com/a/260-pink-floyd?came_from=251')\n",
    "    time.sleep(5)\n",
    "    for j in range(0,len(name_lst[i])):\n",
    "        try:\n",
    "            searchElem1 = browser.find_element_by_css_selector('#main > div > div > div:nth-child(1) > header > div._3_SeBfGsTHeyB6ZmYxN9yl > div > input')\n",
    "            searchElem1.send_keys(name_lst[i][j])\n",
    "#             time.sleep(3)\n",
    "#             searchElem2 = browser.find_element_by_css_selector('#main > div > div > div:nth-child(1) > header > div._3_SeBfGsTHeyB6ZmYxN9yl > div > div > div._19JBZBd19dn8PF0B4MjSaX > a:nth-child(2) > div.MmGOKJE2BoxreuZ3QCcnF')\n",
    "            searchElem2 = WebDriverWait(browser, 10).until(EC.presence_of_element_located((By.CSS_SELECTOR, \"#main > div > div > div:nth-child(1) > header > div._3_SeBfGsTHeyB6ZmYxN9yl > div > div > div._19JBZBd19dn8PF0B4MjSaX > a:nth-child(2) > div.MmGOKJE2BoxreuZ3QCcnF\")))\n",
    "            searchElem2.click()\n",
    "#             searchElem.send_keys(u'\\ue007')\n",
    "#             time.sleep(3)\n",
    "#             bandElem = browser.find_element_by_css_selector('#main > div > div > div._1koQ4kc6VYidUMbfxiNggk > div._2RJRtHyXVH9x-d1K4Ia21E > div._1-Yr6HbiFDqYOtlYJDGMLE > div > div._2ezqbJ98GUib60t3nkFOFP > div._3z6xUrzwQFAu6NfTI7YA9h > div.HVNc81Sal8yclph91HaT1 > div._2nzteM_uGca2Jnei9WwoIO')\n",
    "            bandElem = WebDriverWait(browser, 10).until(EC.presence_of_element_located((By.CSS_SELECTOR, \"#main > div > div > div._1koQ4kc6VYidUMbfxiNggk > div._2RJRtHyXVH9x-d1K4Ia21E > div._1-Yr6HbiFDqYOtlYJDGMLE > div > div._2ezqbJ98GUib60t3nkFOFP > div._3z6xUrzwQFAu6NfTI7YA9h > div.HVNc81Sal8yclph91HaT1 > div._2nzteM_uGca2Jnei9WwoIO\")))\n",
    "            band.append(bandElem.text)\n",
    "            url.append(browser.current_url)\n",
    "        except NoSuchElementException:\n",
    "            band.append(name_lst[i][j])\n",
    "            url.append('N/A')\n",
    "    browser.close()\n",
    "    time.sleep(120)\n",
    "    print(i)\n",
    "    print(datetime.now().strftime(\"%H:%M:%S\"))"
   ]
  },
  {
   "cell_type": "code",
   "execution_count": null,
   "metadata": {},
   "outputs": [],
   "source": [
    "df_booking = pd.DataFrame({'Name': name, \n",
    "                           'Name_Band': band,\n",
    "                           'URL': url})"
   ]
  },
  {
   "cell_type": "code",
   "execution_count": null,
   "metadata": {},
   "outputs": [],
   "source": [
    "df_booking.head()"
   ]
  },
  {
   "cell_type": "code",
   "execution_count": null,
   "metadata": {},
   "outputs": [],
   "source": [
    "df_booking.to_csv('OneDrive/Desktop/Apps with Python/Rock Music/booking1.csv')"
   ]
  },
  {
   "cell_type": "code",
   "execution_count": null,
   "metadata": {},
   "outputs": [],
   "source": []
  }
 ],
 "metadata": {
  "kernelspec": {
   "display_name": "Python 3",
   "language": "python",
   "name": "python3"
  },
  "language_info": {
   "codemirror_mode": {
    "name": "ipython",
    "version": 3
   },
   "file_extension": ".py",
   "mimetype": "text/x-python",
   "name": "python",
   "nbconvert_exporter": "python",
   "pygments_lexer": "ipython3",
   "version": "3.8.5"
  }
 },
 "nbformat": 4,
 "nbformat_minor": 4
}
