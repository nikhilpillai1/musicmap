{
 "cells": [
  {
   "cell_type": "code",
   "execution_count": 8,
   "source": [
    "import folium\r\n",
    "import pandas as pd\r\n",
    "import os\r\n",
    "from folium import plugins\r\n",
    "\r\n",
    "from selenium import webdriver\r\n",
    "from selenium.webdriver.support.ui import WebDriverWait\r\n",
    "from selenium.webdriver.support import expected_conditions as EC\r\n",
    "from selenium.webdriver.common.by import By\r\n",
    "from selenium.common.exceptions import TimeoutException\r\n",
    "from selenium.common.exceptions import NoSuchElementException\r\n",
    "from selenium.webdriver.chrome.options import Options\r\n",
    "from datetime import datetime\r\n",
    "import time"
   ],
   "outputs": [],
   "metadata": {}
  },
  {
   "cell_type": "code",
   "execution_count": 3,
   "source": [
    "os.getcwd()"
   ],
   "outputs": [
    {
     "output_type": "execute_result",
     "data": {
      "text/plain": [
       "'C:\\\\Users\\\\1nikh'"
      ]
     },
     "metadata": {},
     "execution_count": 3
    }
   ],
   "metadata": {}
  },
  {
   "cell_type": "code",
   "execution_count": 4,
   "source": [
    "df = pd.read_csv('OneDrive/Desktop/Apps with Python/Rock Music/MTV_RockMusic.csv')"
   ],
   "outputs": [],
   "metadata": {
    "scrolled": false
   }
  },
  {
   "cell_type": "code",
   "execution_count": 5,
   "source": [
    "df['Name'][df['Name'] == 'AC DC'] = 'AC/DC'"
   ],
   "outputs": [
    {
     "output_type": "stream",
     "name": "stderr",
     "text": [
      "<ipython-input-5-c4fe667c4cbc>:1: SettingWithCopyWarning: \n",
      "A value is trying to be set on a copy of a slice from a DataFrame\n",
      "\n",
      "See the caveats in the documentation: https://pandas.pydata.org/pandas-docs/stable/user_guide/indexing.html#returning-a-view-versus-a-copy\n",
      "  df['Name'][df['Name'] == 'AC DC'] = 'AC/DC'\n"
     ]
    }
   ],
   "metadata": {}
  },
  {
   "cell_type": "code",
   "execution_count": 6,
   "source": [
    "def chunks(lst, n):\r\n",
    "    \"\"\"Yield successive n-sized chunks from lst.\"\"\"\r\n",
    "    for i in range(0, len(lst), n):\r\n",
    "        yield lst[i:i + n]"
   ],
   "outputs": [],
   "metadata": {}
  },
  {
   "cell_type": "code",
   "execution_count": 7,
   "source": [
    "## Dividing the band names into list chunks of size 20\r\n",
    "\r\n",
    "name = list(df['Name'])\r\n",
    "name_lst = list(chunks(name, 20))"
   ],
   "outputs": [],
   "metadata": {}
  },
  {
   "cell_type": "code",
   "execution_count": 9,
   "source": [
    "band = []\r\n",
    "url = []"
   ],
   "outputs": [],
   "metadata": {}
  },
  {
   "cell_type": "code",
   "execution_count": null,
   "source": [
    "print(datetime.now().strftime(\"%H:%M:%S\"))\r\n",
    "\r\n",
    "for i in range(0, len(name_lst)):\r\n",
    "    browser = webdriver.Chrome(options=options)\r\n",
    "    browser.execute_script(\"Object.defineProperty(navigator, 'webdriver', {get: () => undefined})\")\r\n",
    "    browser.maximize_window()\r\n",
    "    browser.get('https://www.bandsintown.com/a/260-pink-floyd?came_from=251')\r\n",
    "    time.sleep(5)\r\n",
    "    for j in range(0,len(name_lst[i])):\r\n",
    "        try:\r\n",
    "            searchElem1 = browser.find_element_by_css_selector('#main > div > div > div:nth-child(1) > header > div._3_SeBfGsTHeyB6ZmYxN9yl > div > input')\r\n",
    "            searchElem1.send_keys(name_lst[i][j])\r\n",
    "#             time.sleep(3)\r\n",
    "#             searchElem2 = browser.find_element_by_css_selector('#main > div > div > div:nth-child(1) > header > div._3_SeBfGsTHeyB6ZmYxN9yl > div > div > div._19JBZBd19dn8PF0B4MjSaX > a:nth-child(2) > div.MmGOKJE2BoxreuZ3QCcnF')\r\n",
    "            searchElem2 = WebDriverWait(browser, 10).until(EC.presence_of_element_located((By.CSS_SELECTOR, \"#main > div > div > div:nth-child(1) > header > div._3_SeBfGsTHeyB6ZmYxN9yl > div > div > div._19JBZBd19dn8PF0B4MjSaX > a:nth-child(2) > div.MmGOKJE2BoxreuZ3QCcnF\")))\r\n",
    "            searchElem2.click()\r\n",
    "#             searchElem.send_keys(u'\\ue007')\r\n",
    "#             time.sleep(3)\r\n",
    "#             bandElem = browser.find_element_by_css_selector('#main > div > div > div._1koQ4kc6VYidUMbfxiNggk > div._2RJRtHyXVH9x-d1K4Ia21E > div._1-Yr6HbiFDqYOtlYJDGMLE > div > div._2ezqbJ98GUib60t3nkFOFP > div._3z6xUrzwQFAu6NfTI7YA9h > div.HVNc81Sal8yclph91HaT1 > div._2nzteM_uGca2Jnei9WwoIO')\r\n",
    "            bandElem = WebDriverWait(browser, 10).until(EC.presence_of_element_located((By.CSS_SELECTOR, \"#main > div > div > div._1koQ4kc6VYidUMbfxiNggk > div._2RJRtHyXVH9x-d1K4Ia21E > div._1-Yr6HbiFDqYOtlYJDGMLE > div > div._2ezqbJ98GUib60t3nkFOFP > div._3z6xUrzwQFAu6NfTI7YA9h > div.HVNc81Sal8yclph91HaT1 > div._2nzteM_uGca2Jnei9WwoIO\")))\r\n",
    "            band.append(bandElem.text)\r\n",
    "            url.append(browser.current_url)\r\n",
    "        except NoSuchElementException:\r\n",
    "            band.append(name_lst[i][j])\r\n",
    "            url.append('N/A')\r\n",
    "    browser.close()\r\n",
    "    time.sleep(120)\r\n",
    "    print(i)\r\n",
    "    print(datetime.now().strftime(\"%H:%M:%S\"))"
   ],
   "outputs": [],
   "metadata": {}
  },
  {
   "cell_type": "code",
   "execution_count": null,
   "source": [
    "df_booking = pd.DataFrame({'Name': name, \r\n",
    "                           'Name_Band': band,\r\n",
    "                           'URL': url})"
   ],
   "outputs": [],
   "metadata": {}
  },
  {
   "cell_type": "code",
   "execution_count": null,
   "source": [
    "df_booking.head()"
   ],
   "outputs": [],
   "metadata": {}
  },
  {
   "cell_type": "code",
   "execution_count": null,
   "source": [
    "df_booking.to_csv('OneDrive/Desktop/Apps with Python/Rock Music/bookings.csv')"
   ],
   "outputs": [],
   "metadata": {}
  },
  {
   "cell_type": "code",
   "execution_count": null,
   "source": [],
   "outputs": [],
   "metadata": {}
  }
 ],
 "metadata": {
  "kernelspec": {
   "display_name": "Python 3",
   "language": "python",
   "name": "python3"
  },
  "language_info": {
   "codemirror_mode": {
    "name": "ipython",
    "version": 3
   },
   "file_extension": ".py",
   "mimetype": "text/x-python",
   "name": "python",
   "nbconvert_exporter": "python",
   "pygments_lexer": "ipython3",
   "version": "3.8.5"
  }
 },
 "nbformat": 4,
 "nbformat_minor": 4
}